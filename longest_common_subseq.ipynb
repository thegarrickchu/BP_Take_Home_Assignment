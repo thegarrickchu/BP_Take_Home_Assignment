{
 "cells": [
  {
   "cell_type": "markdown",
   "metadata": {},
   "source": [
    "## 1. Prompt\n",
    "## 2. Notes\n",
    "## 3. Code and examples\n",
    "## 4. Runtime Complexity Analysis\n",
    "\n",
    "\n",
    "### 1. Prompt\n",
    "\n",
    "Question 1\n",
    "\n",
    "Given two strings write a program that identifies the longest common subsequence between them. The subsequence does not need to be contiguous. Return the longest common subsequence and its length. Identify the runtime complexity using big O notation for your algorithm.\n",
    "You can use any object oriented programming language.\n",
    " \n",
    "Example:\n",
    "str_1 = “zbbcdgf”\n",
    "str_2 = “bbadcgf”\n",
    " \n",
    "Output:\n",
    "comm_str = “bbcgf”, length = 5\n"
   ]
  },
  {
   "cell_type": "markdown",
   "metadata": {},
   "source": [
    "### 2. Notes\n",
    "\n",
    "Notes: To solve and also generalize to many cases, will utilize a dynamic programming method. \n",
    "Generally, there are 2 cases: either the last characters of each string match or they don't.  This assumption will act as the basis for building the function.  \n",
    "\n",
    "\n",
    "The approach will be to generate a 2-day array (table) that evaluates each strings element and then returns value that is either 0 (starting point), increments the length by 1 (if there is a match), or if there is no match takes the max of the adjacent elements' values. In other words: Upon each instance, we will evaluate whether the element matches and increment the running count of len(lcs[i][j]) by 1. If no match, len(lcs[i][j]) = max(LCS[i-1][j], LCS[i][j-1]). \n",
    "\n",
    "\n",
    "Parameters: takes in 2 strings and compares such that the function outputs both the character elements and the length of the character elements from the longest common subsequence.  Aka output = arr(longest common subsequence) and the value count of the longest common subsequence. \n",
    "\n",
    "Base case: if string1 and/or string2 == 0, then return empty string and 0."
   ]
  },
  {
   "cell_type": "markdown",
   "metadata": {},
   "source": [
    "### 3. Code and Examples\n",
    "\n",
    "Note: This is a notebook to plot out script design and build/verify function.  The code to run/test is in separate py script."
   ]
  },
  {
   "cell_type": "code",
   "execution_count": 1,
   "metadata": {},
   "outputs": [],
   "source": [
    "#import all necessary libraries, in this case just arg parse is needed so the script can be run with arguments from CLI\n",
    "\n",
    "import argparse"
   ]
  },
  {
   "cell_type": "code",
   "execution_count": 6,
   "metadata": {},
   "outputs": [
    {
     "name": "stderr",
     "output_type": "stream",
     "text": [
      "usage: ipykernel_launcher.py [-h] string1 string2\n",
      "ipykernel_launcher.py: error: the following arguments are required: string2\n"
     ]
    },
    {
     "ename": "SystemExit",
     "evalue": "2",
     "output_type": "error",
     "traceback": [
      "An exception has occurred, use %tb to see the full traceback.\n",
      "\u001b[1;31mSystemExit\u001b[0m\u001b[1;31m:\u001b[0m 2\n"
     ]
    },
    {
     "name": "stderr",
     "output_type": "stream",
     "text": [
      "C:\\Users\\Garrick\\anaconda3\\lib\\site-packages\\IPython\\core\\interactiveshell.py:3426: UserWarning: To exit: use 'exit', 'quit', or Ctrl-D.\n",
      "  warn(\"To exit: use 'exit', 'quit', or Ctrl-D.\", stacklevel=1)\n"
     ]
    }
   ],
   "source": [
    "#parses the arguments passed on the CLI when invoking this script\n",
    "parser = argparse.ArgumentParser()\n",
    "parser.add_argument(\"string1\", help=\"first string to evaluate\",\n",
    "                     type=str)\n",
    "parser.add_argument(\"string2\", help=\"second string to evaluate\",\n",
    "                     type=str)\n",
    "\n",
    "args = parser.parse_args()"
   ]
  },
  {
   "cell_type": "code",
   "execution_count": 28,
   "metadata": {},
   "outputs": [],
   "source": [
    "def longest_common_subsequence(str1: \"string\", str2: \"string\") -> list:\n",
    "    #get length of each string\n",
    "    m = len(str1)\n",
    "    n = len(str2)\n",
    "    \n",
    "    \"\"\"instantiate a 2-D array to store the results of evaluating/storing character evaluations. \n",
    "    Basically, this will be a table with each row and column being an element of the string and the fields will be the running length count of the longest common substring.\n",
    "    We will use this array as well as a pointer to identify the associated elements of the string.\n",
    "    here we'll use list comprehension to generate.\n",
    "    \"\"\"\n",
    "    length_lcs = [[0 for x in range(n+1)] for x in range(m+1)] \n",
    "    \n",
    "    \n",
    "    #Now we'll build/fill in the values of length_lcs[m+1][n+1] using a \"bottom-up\" approach\n",
    "    for i in range(m+1):\n",
    "        for j in range(n+1):\n",
    "            #starting logic in iterating through the 2-d array length_lcs\n",
    "            if i == 0 or j == 0:\n",
    "                length_lcs[i][j] = 0\n",
    "            elif str1[i-1] == str2[j-1]: #case when there is a element match, increment the previous length_lcs by 1\n",
    "                length_lcs[i][j] = length_lcs[i-1][j-1] + 1\n",
    "            else: # the case where this is no match\n",
    "                length_lcs[i][j] = max(length_lcs[i-1][j], length_lcs[i][j-1])\n",
    "    \n",
    "    \"\"\"\n",
    "    At this point we have a 2-d array with values that consists of either 0, an intermediate running count of the longest common subsequence or the final count of the longest common subsequence\n",
    "    Now let's use these values to access via indexing the actual elements of the string\n",
    "    \"\"\"\n",
    "    \n",
    "    #instantiate the pointer for indexing\n",
    "    pointer = length_lcs[m][n]\n",
    "    \n",
    "    #instantiate an array with length of the longest common subsequence to store the common elements\n",
    "    lcs = [\"\"] * (pointer+1)\n",
    "    \n",
    "    #working from the bottom-right of the 2-d array, length_lcs, and then store that element\n",
    "    p = m\n",
    "    q = n\n",
    "    \n",
    "    while p > 0 and q > 0:\n",
    "        if str1[p-1] == str2[q-1]: #if the str1 char matches the str2 character, then it is part of the longest common subsequence\n",
    "            lcs[pointer-1] = str1[p-1]\n",
    "            #increment index and pointer to work through the remaining 2-d array\n",
    "            p -= 1\n",
    "            q -= 1\n",
    "            pointer -= 1\n",
    "            \n",
    "        #if not the same, find the larger value of 2 adjacent elements of 2-d array, length_lcs and return corresponding element. This prevents double entry of the matching elements\n",
    "        elif length_lcs[p-1][q] > length_lcs[p][q-1]:\n",
    "            p -= 1\n",
    "            \n",
    "        else:\n",
    "            q -= 1\n",
    "            \n",
    "    \n",
    "    print(\"The longest common subsequence is '{}' and is of length {}\".format(\"\".join(lcs), length_lcs[m][n]))"
   ]
  },
  {
   "cell_type": "code",
   "execution_count": 29,
   "metadata": {},
   "outputs": [
    {
     "name": "stdout",
     "output_type": "stream",
     "text": [
      "The longest common subsequence is 'bbdgf' and is of length 5\n"
     ]
    }
   ],
   "source": [
    "# lets test it out\n",
    "\n",
    "longest_common_subsequence(\"zbbcdgf\", \"bbadcgf\")"
   ]
  },
  {
   "cell_type": "code",
   "execution_count": 30,
   "metadata": {},
   "outputs": [
    {
     "name": "stdout",
     "output_type": "stream",
     "text": [
      "The longest common subsequence is 'atog' and is of length 4\n"
     ]
    }
   ],
   "source": [
    "longest_common_subsequence(\"catdog\", \"rathog\")"
   ]
  },
  {
   "cell_type": "code",
   "execution_count": 31,
   "metadata": {},
   "outputs": [
    {
     "name": "stdout",
     "output_type": "stream",
     "text": [
      "The longest common subsequence is '' and is of length 0\n"
     ]
    }
   ],
   "source": [
    "longest_common_subsequence(\"\", \"\")"
   ]
  },
  {
   "cell_type": "code",
   "execution_count": 32,
   "metadata": {},
   "outputs": [
    {
     "name": "stdout",
     "output_type": "stream",
     "text": [
      "The longest common subsequence is 'pp' and is of length 2\n"
     ]
    }
   ],
   "source": [
    "longest_common_subsequence(\"apple\", \"hippopotamus\")"
   ]
  },
  {
   "cell_type": "code",
   "execution_count": 35,
   "metadata": {},
   "outputs": [
    {
     "name": "stdout",
     "output_type": "stream",
     "text": [
      "The longest common subsequence is '' and is of length 0\n"
     ]
    }
   ],
   "source": [
    "longest_common_subsequence(\"carnival\", \"bemuse\")"
   ]
  },
  {
   "cell_type": "code",
   "execution_count": 36,
   "metadata": {},
   "outputs": [
    {
     "name": "stdout",
     "output_type": "stream",
     "text": [
      "The longest common subsequence is 'es' and is of length 2\n"
     ]
    }
   ],
   "source": [
    "longest_common_subsequence(\"recess\", \"extras\")"
   ]
  },
  {
   "cell_type": "code",
   "execution_count": 7,
   "metadata": {},
   "outputs": [
    {
     "ename": "NameError",
     "evalue": "name 'args' is not defined",
     "output_type": "error",
     "traceback": [
      "\u001b[1;31m---------------------------------------------------------------------------\u001b[0m",
      "\u001b[1;31mNameError\u001b[0m                                 Traceback (most recent call last)",
      "\u001b[1;32m<ipython-input-7-7be50bde9559>\u001b[0m in \u001b[0;36m<module>\u001b[1;34m\u001b[0m\n\u001b[1;32m----> 1\u001b[1;33m \u001b[0mlongest_common_subsequence\u001b[0m\u001b[1;33m(\u001b[0m\u001b[0margs\u001b[0m\u001b[1;33m.\u001b[0m\u001b[0mstring1\u001b[0m\u001b[1;33m,\u001b[0m \u001b[0margs\u001b[0m\u001b[1;33m.\u001b[0m\u001b[0mstring2\u001b[0m\u001b[1;33m)\u001b[0m\u001b[1;33m\u001b[0m\u001b[1;33m\u001b[0m\u001b[0m\n\u001b[0m",
      "\u001b[1;31mNameError\u001b[0m: name 'args' is not defined"
     ]
    }
   ],
   "source": [
    "#to be used for the py script\n",
    "longest_common_subsequence(args.string1, args.string2)"
   ]
  },
  {
   "cell_type": "markdown",
   "metadata": {},
   "source": [
    "### 4. Time Complexity Analysis\n",
    "\n",
    "The function contains 2 major parts: the part to fill out the 2-D array/table to find the length of LCS and the part to iterate through the table to identify the elements of the LCS.  For the 2nd part, the runtime of while loop is bounded by the length of the longest string and thus has an O(n) runtime.\n",
    "\n",
    "The first part builds a 2-D array with dimensions m (the variable length of string1) by n (the variable length of string2) and thus has a runtime of O(mn).  \n",
    "\n",
    "Given that the first part is the worst-case performance (where O(nm) > O(n)), we deem that the program has a runtime of O(mn). "
   ]
  },
  {
   "cell_type": "code",
   "execution_count": null,
   "metadata": {},
   "outputs": [],
   "source": []
  }
 ],
 "metadata": {
  "kernelspec": {
   "display_name": "Python 3",
   "language": "python",
   "name": "python3"
  },
  "language_info": {
   "codemirror_mode": {
    "name": "ipython",
    "version": 3
   },
   "file_extension": ".py",
   "mimetype": "text/x-python",
   "name": "python",
   "nbconvert_exporter": "python",
   "pygments_lexer": "ipython3",
   "version": "3.8.5"
  }
 },
 "nbformat": 4,
 "nbformat_minor": 4
}
